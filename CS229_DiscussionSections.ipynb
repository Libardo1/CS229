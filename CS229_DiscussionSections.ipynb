{
 "metadata": {
  "name": ""
 },
 "nbformat": 3,
 "nbformat_minor": 0,
 "worksheets": [
  {
   "cells": [
    {
     "cell_type": "code",
     "collapsed": false,
     "input": [
      "import sys, os\n",
      "import numpy as np\n",
      "import matplotlib\n",
      "import matplotlib.pyplot as plt \n",
      "import pandas as pd\n",
      "import re\n",
      "import cmath\n",
      "import math\n",
      "import glob\n",
      "import subprocess\n",
      "%matplotlib inline\n",
      "import scipy.stats as stats\n",
      "import pylab as pl\n",
      "from scipy.spatial.distance import pdist, squareform\n",
      "from scipy.cluster.hierarchy import linkage, dendrogram\n",
      "from sklearn import svm, datasets"
     ],
     "language": "python",
     "metadata": {},
     "outputs": [],
     "prompt_number": 1
    },
    {
     "cell_type": "heading",
     "level": 4,
     "metadata": {},
     "source": [
      "Useful links"
     ]
    },
    {
     "cell_type": "markdown",
     "metadata": {},
     "source": [
      "http://en.wikibooks.org/wiki/LaTeX/Mathematics\n",
      "http://en.wikipedia.org/wiki/List_of_mathematical_symbols\n",
      "http://www.dfcd.net/projects/latex/latex.php"
     ]
    },
    {
     "cell_type": "heading",
     "level": 4,
     "metadata": {},
     "source": [
      "Linear algebra"
     ]
    },
    {
     "cell_type": "markdown",
     "metadata": {},
     "source": [
      "A system of linear equations in which each term is either a constant or a constant multiplied by a single variable."
     ]
    },
    {
     "cell_type": "markdown",
     "metadata": {},
     "source": [
      "\\begin{equation} 4x_{1} - 5x{2} = -13 \\end{equation}\n",
      "\\begin{equation} 2x_{1} + 3x{2} = 9 \\end{equation}\n",
      "\\begin{equation} x_{1} + x{2} = 0 \\end{equation}"
     ]
    },
    {
     "cell_type": "markdown",
     "metadata": {},
     "source": [
      "This set of equations can be re-cast in matrix form, a more compact form:"
     ]
    },
    {
     "cell_type": "markdown",
     "metadata": {},
     "source": [
      "\\begin{equation} \\begin{bmatrix} 4 & -5 \\\\ 2 & 3 \\\\ 1 & 1 \\end{bmatrix}  \\begin{bmatrix} x_{1} \\\\ x_{2}  \\end{bmatrix} = \\begin{bmatrix} -13 \\\\ 9 \\\\ 0 \\end{bmatrix} \\end{equation}\n",
      "\n",
      "$\\textbf{A} \\textbf{x} = \\textbf{B} $"
     ]
    },
    {
     "cell_type": "markdown",
     "metadata": {},
     "source": [
      "Matrix multiplication follows that the product coordinate (i,j) is i row of $\\textbf{A}$ and i columns of $\\textbf{x}$."
     ]
    },
    {
     "cell_type": "markdown",
     "metadata": {},
     "source": [
      "\\begin{equation} \\begin{bmatrix} 1 & 2 \\\\ 3 & 4 \\\\ 5 & 6 \\end{bmatrix} \\begin{bmatrix} 1 & 2 \\\\ 3 & 4 \\end{bmatrix} = \\begin{bmatrix} 7 & 10 \\\\ 15 & 22 \\\\ 23 & 34 \\end{bmatrix} \\end{equation}"
     ]
    },
    {
     "cell_type": "markdown",
     "metadata": {},
     "source": [
      "Note that the multiplcation of each row by a column is the $\\textbf{inner product}$ (dot product) and gives a real number (for i,j=0: $1 \\times 1 + 2 \\times 3 = 7$).\n",
      "\n",
      "Note that the multiplcation of each column by a row is the $\\textbf{outer product}$ and gives a matrix."
     ]
    },
    {
     "cell_type": "markdown",
     "metadata": {},
     "source": [
      "Diagonal matrix has specified values on the diagonal (and all else zeros) and identity matrix has ones on the diagonal and the $\\textbf{trace}$ is the sum of diagonal elements."
     ]
    },
    {
     "cell_type": "markdown",
     "metadata": {},
     "source": [
      "A $\\textbf{norm}$ is the \"length\" of a vector.\n",
      "\n",
      "Euclidian norm is the sum of the square of elements in the vector: $\\sqrt{\\sum x_i^2}$.\n",
      "\n",
      "A similar idea can be applied to matricies: $\\sqrt{\\sum x_{ij}^2}$."
     ]
    },
    {
     "cell_type": "markdown",
     "metadata": {},
     "source": [
      "The $\\textbf{Invertible matrix}$, $\\textbf{B}$, produces the identity matrix: $\\textbf{A} \\textbf{B} = \\textbf{I}$ where $B = A^{-1}$. \n",
      "\n",
      "The identitfy matrix  $\\textbf{A} \\textbf{I} = \\textbf{A}$.\n",
      "Though not all matricies have inverses, they can be useful:\n",
      "\n",
      "$Ax=b \\Leftrightarrow A^{-1}Ax =  A^{-1}b \\Leftrightarrow x = A^{-1}b$\n",
      "\n",
      "Thus, $\\textbf{A}$ is $\\textbf{invertible}$ or $\\textbf{non-signular}$ if $ A^{-1} $ exists."
     ]
    },
    {
     "cell_type": "markdown",
     "metadata": {},
     "source": [
      "$\\textbf{Linear independence}$ means that no vector in a set can be written as a linear combination of the remaining.\n",
      "\n",
      "Recall that a linear combination is achieved by multiplying each term by a constant and adding the results.\n",
      "\n",
      "For example, the below set is linearly dependent becase there is a valid linear combination: $x_3$ = -2 $x_1$ + $x_2$:\n",
      "\\begin{equation} x_1 = \\begin{bmatrix} 1 \\\\ 2 \\\\ 3 \\end{bmatrix}  x_2 = \\begin{bmatrix} 4 \\\\ 1 \\\\ 5 \\end{bmatrix}  x_3 = \\begin{bmatrix} 2 \\\\ -3 \\\\ -1 \\end{bmatrix} \\end{equation}\n",
      "\n",
      "$\\textbf{Rank}$ is a related idea, and simply indicates the number of linearly independent columns (column rank) or rows (row rank) of a matrix.\n",
      "\n",
      "$\\textbf{Full rank}$ matricies are invertible."
     ]
    },
    {
     "cell_type": "markdown",
     "metadata": {},
     "source": [
      "$\\textbf{Orthogonality}$ means that the dot product of two orthogonal vectors is zero. \n",
      "\n",
      "\\begin{equation} x = \\begin{bmatrix} 1 & 1\\end{bmatrix} \\end{equation}\n",
      "\n",
      "\\begin{equation} x^{T} = \\begin{bmatrix} 1 \\\\ 1 \\end{bmatrix} \\end{equation}\n",
      "\n",
      "\\begin{equation} y = \\begin{bmatrix} -1 & -1 \\end{bmatrix} \\end{equation}\n",
      "\n",
      "x and y are orthogonal because $\\begin{equation} x^{T} y = 0 \\end{equation}$."
     ]
    },
    {
     "cell_type": "markdown",
     "metadata": {},
     "source": [
      "The $\\textbf{span}$ is the set of vectors that can be expressed as a linear combination of a given set."
     ]
    },
    {
     "cell_type": "markdown",
     "metadata": {},
     "source": [
      "The $\\textbf{determinant}$ is used to see whether a matrix is invertiable.\n",
      "\n",
      "For a given matrix, there is a set of points $\\textbf{S}$ formed by taking all possible linear combinations of the row vectors with combination coefficients between 0 and 1. \n",
      "\n",
      "Given a matrix:\n",
      "\n",
      "\\begin{equation} A= \\begin{bmatrix} 1 & 3 \\\\ 3 & 2 \\end{bmatrix} \\end{equation}\n",
      "\n",
      "The rows are:\n",
      "\n",
      "\\begin{equation} a_1= \\begin{bmatrix} 1 & 3 \\end{bmatrix}  \\end{equation}\n",
      "\n",
      "\\begin{equation} a_2= \\begin{bmatrix} 3 & 2 \\end{bmatrix}  \\end{equation}\n",
      "\n",
      "The linear combination is: \n",
      "\n",
      "\\begin{equation} c = \\alpha \\times a_1 + \\beta \\times a_2 \\end{equation}\n",
      "\n",
      "The edge case for $ \\alpha = \\beta = 1 $ is:\n",
      "\n",
      "\\begin{bmatrix} 4 & 5 \\end{bmatrix}\n",
      "\n",
      "By setting the coefficients to zero and exploring other edge cases, $S$ forms a parallelogram. \n",
      "\n",
      "The $\\textbf{determinant}$ is the area of the parallelogram: 7."
     ]
    },
    {
     "cell_type": "markdown",
     "metadata": {},
     "source": [
      "$\\lambda$ is an $\\textbf{eigenvalue}$ of square matrix $A$ and x is the $\\textbf{eigenvector}$ if:\n",
      "\n",
      "$ Ax = \\lambda x $\n",
      "\n",
      "This simply means that multiplying a matrix $A$ by its eigenvector, $x$, results a new vector that points in the direction of $x$ but is scaled by $\\lambda$."
     ]
    },
    {
     "cell_type": "markdown",
     "metadata": {},
     "source": [
      "The $\\textbf{gradient}$ of $f(A)$ is defined below, and is always the same size as A and requires that $f(A)$ returns a scalar:\n",
      "\n",
      "\\begin{equation} (\\nabla_A f(A))_{ij} = \\frac{\\partial(A)}{\\partial(A_{ij})} \\end{equation}"
     ]
    },
    {
     "cell_type": "code",
     "collapsed": false,
     "input": [],
     "language": "python",
     "metadata": {},
     "outputs": []
    }
   ],
   "metadata": {}
  }
 ]
}