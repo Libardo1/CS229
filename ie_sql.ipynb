{
 "metadata": {
  "name": ""
 },
 "nbformat": 3,
 "nbformat_minor": 0,
 "worksheets": [
  {
   "cells": [
    {
     "cell_type": "code",
     "collapsed": false,
     "input": [
      "import sys\n",
      "import os\n",
      "import numpy as np\n",
      "import matplotlib\n",
      "import matplotlib.pyplot as plt \n",
      "import pandas as pd\n",
      "from pandas.io import sql"
     ],
     "language": "python",
     "metadata": {},
     "outputs": [],
     "prompt_number": 20
    },
    {
     "cell_type": "heading",
     "level": 4,
     "metadata": {},
     "source": [
      "Context - "
     ]
    },
    {
     "cell_type": "markdown",
     "metadata": {},
     "source": [
      "Relational Model:\n",
      "\n",
      "* Data-tables assign relation between key (e.g., person ID) and associated data (e.g., person DOB, name, etc).\n",
      "* Schema: Defined and set schema, with rows indicating entries and columns indicating information that belongs to each record.\n",
      "* Query: Structured Query Language (SQL).\n",
      "  \n",
      "Non-relational Model: \n",
      "\n",
      "* Eliminate the limitations of strict relations.\n",
      "* Schema: Not set. Document stores keep each data, together, as a single collection (i.e. document) in the database.\n",
      "* Query: Differ.\n",
      "\n",
      "SQlite:\n",
      "\n",
      "* The entire database consists of a single file on the disk, which makes it extremely portable.\n",
      "* Fast because no communication through an interface of sorts (i.e. ports, sockets).\n",
      "* Downside is that no managed connections with set access privileges to the database and tables. \n",
      "* Downside is also no ability to tinker with it in order to obtain a great deal of additional performance. \n",
      "* Generally good for single-user apps or testing.\n",
      "* Bad for multi-user apps, apps with large number of write operations (only one single write at any given time)\n",
      "\n",
      "MySQL:\n",
      "\n",
      "* MySQL can handle a lot of data and furthermore it can be used \"at scale\", if needed be.\n",
      "* A lot of security features, some rather advanced, are built in MySQL.\n",
      "* Generally good for web applications. \n",
      "* Downside is that concurrent read-writes can be problematic.\n",
      "\n",
      "PostgresSQL:\n",
      "\n",
      "* Large-open source and active community. \n",
      "* Downside is that simple read-heavy operations, PostgreSQL can be an over-kill (performant than the counterparts, such as MySQL).\n",
      "* Best for complex, customized set-ups.\n",
      "\n",
      "Needs for this applicaton: \n",
      "\n",
      "* SQlit is the best place to start, because it is fast and easy to work with.\n",
      "* MySQL is probably the best solution if the app needs to scale: it can scale to handle large data volumes and has secuity features.\n",
      "* PostgresSQL is less useful here, because customization isn't required for this app, but we require very fast read operations.\n"
     ]
    },
    {
     "cell_type": "heading",
     "level": 4,
     "metadata": {},
     "source": [
      "SQLite - "
     ]
    },
    {
     "cell_type": "code",
     "collapsed": false,
     "input": [
      "# --- Create connection to sqlite DB ---\n",
      "import sqlite3\n",
      "DB='/Users/lmartin/Desktop/SQL/test'\n",
      "conn = sqlite3.connect(DB)"
     ],
     "language": "python",
     "metadata": {},
     "outputs": [],
     "prompt_number": 4
    },
    {
     "cell_type": "code",
     "collapsed": false,
     "input": [
      "path='/Users/lmartin/Desktop/SQL/min.tax.table'\n",
      "FullTaxTable=pd.read_table(path,dtype=str)\n",
      "print FullTaxTable.shape\n",
      "\n",
      "# Change type so that merging on taxID works\n",
      "FullTaxTable['tax_id']=FullTaxTable['tax_id'].astype(int)\n",
      "FullTaxTable['tax_id'].head(3)"
     ],
     "language": "python",
     "metadata": {},
     "outputs": [
      {
       "output_type": "stream",
       "stream": "stdout",
       "text": [
        "(18229, 61)\n"
       ]
      },
      {
       "metadata": {},
       "output_type": "pyout",
       "prompt_number": 81,
       "text": [
        "0         1\n",
        "1    131567\n",
        "2      2157\n",
        "Name: tax_id, dtype: int64"
       ]
      }
     ],
     "prompt_number": 81
    },
    {
     "cell_type": "code",
     "collapsed": false,
     "input": [
      "path='/Users/lmartin/Desktop/SQL/grammy_data.csv'\n",
      "grammy_df=pd.read_csv(path,index_col=0)\n",
      "print grammy_df.shape\n",
      "\n",
      "# Change type so that merging on taxID works\n",
      "grammy_df['TaxID']=grammy_df['TaxID'].astype(int)\n",
      "grammy_df['TaxID'].head(3)"
     ],
     "language": "python",
     "metadata": {},
     "outputs": [
      {
       "output_type": "stream",
       "stream": "stdout",
       "text": [
        "(218383, 20)\n"
       ]
      },
      {
       "metadata": {},
       "output_type": "pyout",
       "prompt_number": 82,
       "text": [
        "0    215689\n",
        "1    232721\n",
        "2    290399\n",
        "Name: TaxID, dtype: int64"
       ]
      }
     ],
     "prompt_number": 82
    },
    {
     "cell_type": "code",
     "collapsed": false,
     "input": [
      "path='/Users/lmartin/Desktop/SQL/sample_data.csv'\n",
      "samples_annot=pd.read_csv(path,index_col=0)\n",
      "print samples_annot.shape\n",
      "\n",
      "# Change type so that sorting by date works --- Note can't do int because of NAs!\n",
      "# sliced_tax_table=sliced_tax_table[~pd.isnull(sliced_tax_table[level])]\n",
      "samples_annot['DaysPostTransplant']=samples_annot['DaysPostTransplant'].astype(str)"
     ],
     "language": "python",
     "metadata": {},
     "outputs": [
      {
       "output_type": "stream",
       "stream": "stdout",
       "text": [
        "(1364, 6)\n"
       ]
      }
     ],
     "prompt_number": 84
    },
    {
     "cell_type": "heading",
     "level": 4,
     "metadata": {},
     "source": [
      "Write tables - "
     ]
    },
    {
     "cell_type": "code",
     "collapsed": false,
     "input": [
      "# Write tables\n",
      "sql.write_frame(samples_annot,\"Sample_Table\", conn, if_exists='replace')\n",
      "sql.write_frame(FullTaxTable,\"Tax_Table\", conn, if_exists='replace')\n",
      "sql.write_frame(grammy_df,\"Grammy_Table\", conn, if_exists='replace')"
     ],
     "language": "python",
     "metadata": {},
     "outputs": [],
     "prompt_number": 85
    },
    {
     "cell_type": "heading",
     "level": 4,
     "metadata": {},
     "source": [
      "Cohort figures - "
     ]
    },
    {
     "cell_type": "code",
     "collapsed": false,
     "input": [
      "# Merge data\n",
      "grammy_df_project=sql.read_sql(\"SELECT * FROM Grammy_Table WHERE Study = '%s'\" %study, conn, coerce_float=True)\n",
      "tax_table=sql.read_sql('select tax_id,tax_name,%s from Tax_Table'%level, conn, coerce_float=True)\n",
      "mm=pd.merge(grammy_df_project,tax_table,left_on=\"TaxID\",right_on=\"tax_id\")\n",
      "mm1=mm[['Normalized_Abundance','Sample_ID',level]]\n",
      "print mm1.shape"
     ],
     "language": "python",
     "metadata": {},
     "outputs": [
      {
       "output_type": "stream",
       "stream": "stdout",
       "text": [
        "(47250, 3)\n"
       ]
      }
     ],
     "prompt_number": 135
    },
    {
     "cell_type": "code",
     "collapsed": false,
     "input": [
      "# Project Data\n",
      "level='genus'\n",
      "study='Lung'\n",
      "mm1=sql.read_sql(\"select Grammy_Table.Sample_ID,Grammy_Table.Normalized_Abundance,Tax_Table.%s \"\n",
      "                \"from Tax_Table \"\n",
      "                \"INNER JOIN Grammy_Table \"\n",
      "                \"ON Tax_Table.tax_id=Grammy_Table.TaxID \"\n",
      "                \"WHERE Study = '%s'\"%(level,study), conn, coerce_float=True)\n",
      "print mm1.shape\n",
      "mm1.head(3)"
     ],
     "language": "python",
     "metadata": {},
     "outputs": [
      {
       "output_type": "stream",
       "stream": "stdout",
       "text": [
        "(47250, 3)\n"
       ]
      },
      {
       "html": [
        "<div style=\"max-height:1000px;max-width:1500px;overflow:auto;\">\n",
        "<table border=\"1\" class=\"dataframe\">\n",
        "  <thead>\n",
        "    <tr style=\"text-align: right;\">\n",
        "      <th></th>\n",
        "      <th>Sample_ID</th>\n",
        "      <th>Normalized_Abundance</th>\n",
        "      <th>genus</th>\n",
        "    </tr>\n",
        "  </thead>\n",
        "  <tbody>\n",
        "    <tr>\n",
        "      <th>0</th>\n",
        "      <td> L10_M12</td>\n",
        "      <td> 0</td>\n",
        "      <td>   551</td>\n",
        "    </tr>\n",
        "    <tr>\n",
        "      <th>1</th>\n",
        "      <td> L10_M12</td>\n",
        "      <td> 0</td>\n",
        "      <td> 12916</td>\n",
        "    </tr>\n",
        "    <tr>\n",
        "      <th>2</th>\n",
        "      <td> L10_M12</td>\n",
        "      <td> 0</td>\n",
        "      <td>  1663</td>\n",
        "    </tr>\n",
        "  </tbody>\n",
        "</table>\n",
        "<p>3 rows \u00d7 3 columns</p>\n",
        "</div>"
       ],
       "metadata": {},
       "output_type": "pyout",
       "prompt_number": 136,
       "text": [
        "  Sample_ID  Normalized_Abundance  genus\n",
        "0   L10_M12                     0    551\n",
        "1   L10_M12                     0  12916\n",
        "2   L10_M12                     0   1663\n",
        "\n",
        "[3 rows x 3 columns]"
       ]
      }
     ],
     "prompt_number": 136
    },
    {
     "cell_type": "code",
     "collapsed": false,
     "input": [
      "counts=mm1.groupby(['Sample_ID',level],as_index=False).aggregate(np.sum)"
     ],
     "language": "python",
     "metadata": {},
     "outputs": [
      {
       "output_type": "stream",
       "stream": "stdout",
       "text": [
        "(47250, 3)\n"
       ]
      }
     ],
     "prompt_number": 134
    },
    {
     "cell_type": "code",
     "collapsed": false,
     "input": [],
     "language": "python",
     "metadata": {},
     "outputs": []
    },
    {
     "cell_type": "code",
     "collapsed": false,
     "input": [
      "\n",
      "  \n",
      "  uniqSamples_per_taxLevel=mm1.groupby([level]).Sample_ID.agg(lambda x: len(list(set(x)))) # Samples in which taxID found.\n",
      "  vals=uniqSamples_per_taxLevel/len(list(set(counts['Sample_ID']))) # Fraction relative to total number of samples.\n",
      "  vals.sort(ascending=False)\n",
      "  num_bins=30\n",
      "  hist,bins=np.histogram(vals,bins=num_bins)\n",
      "  width=0.8*(bins[1]-bins[0])\n",
      "  center=(bins[:-1] + bins[1:])/2\n",
      "  ax.bar(center,hist,align='center',width=width,color='Grey',alpha=0.75)\n",
      "  ax.set_xlabel('Fraction of samples in which %s is found'%level, fontsize = 12)\n",
      "  ax.set_ylabel('Number %s'%level, fontsize = 12)\n",
      "  canvas=FigureCanvas(fig)\n",
      "  response=HttpResponse(content_type='image/png')\n",
      "  canvas.print_png(response)\n",
      "  return response"
     ],
     "language": "python",
     "metadata": {},
     "outputs": []
    },
    {
     "cell_type": "code",
     "collapsed": false,
     "input": [
      "# Project Data\n",
      "level='genus'\n",
      "study='Lung'\n",
      "mm=sql.read_sql(\"select Tax_Table.tax_id,Tax_Table.tax_name,Tax_Table.%s from Tax_Table INNER JOIN Grammy_Table ON Tax_Table.tax_id=Grammy_Table.TaxID WHERE Study = '%s'\"%(level,study), conn, coerce_float=True)\n",
      "print mm.shape\n",
      "mm.head(3)"
     ],
     "language": "python",
     "metadata": {},
     "outputs": [
      {
       "output_type": "stream",
       "stream": "stdout",
       "text": [
        "(47250, 3)\n"
       ]
      },
      {
       "html": [
        "<div style=\"max-height:1000px;max-width:1500px;overflow:auto;\">\n",
        "<table border=\"1\" class=\"dataframe\">\n",
        "  <thead>\n",
        "    <tr style=\"text-align: right;\">\n",
        "      <th></th>\n",
        "      <th>tax_id</th>\n",
        "      <th>tax_name</th>\n",
        "      <th>genus</th>\n",
        "    </tr>\n",
        "  </thead>\n",
        "  <tbody>\n",
        "    <tr>\n",
        "      <th>0</th>\n",
        "      <td> 215689</td>\n",
        "      <td>    Erwinia sp. Ejp617</td>\n",
        "      <td>   551</td>\n",
        "    </tr>\n",
        "    <tr>\n",
        "      <th>1</th>\n",
        "      <td> 232721</td>\n",
        "      <td>   Acidovorax sp. JS42</td>\n",
        "      <td> 12916</td>\n",
        "    </tr>\n",
        "    <tr>\n",
        "      <th>2</th>\n",
        "      <td> 290399</td>\n",
        "      <td> Arthrobacter sp. FB24</td>\n",
        "      <td>  1663</td>\n",
        "    </tr>\n",
        "  </tbody>\n",
        "</table>\n",
        "<p>3 rows \u00d7 3 columns</p>\n",
        "</div>"
       ],
       "metadata": {},
       "output_type": "pyout",
       "prompt_number": 116,
       "text": [
        "   tax_id               tax_name  genus\n",
        "0  215689     Erwinia sp. Ejp617    551\n",
        "1  232721    Acidovorax sp. JS42  12916\n",
        "2  290399  Arthrobacter sp. FB24   1663\n",
        "\n",
        "[3 rows x 3 columns]"
       ]
      }
     ],
     "prompt_number": 116
    },
    {
     "cell_type": "code",
     "collapsed": false,
     "input": [
      "tmp=sql.read_sql('select Sample_ID from Sample_Data', conn, coerce_float=True)\n",
      "tmp=sql.read_sql(\"SELECT * FROM Sample_Data WHERE Patient_ID = 'L1' \", conn, coerce_float=True)\n",
      "tmp"
     ],
     "language": "python",
     "metadata": {},
     "outputs": [
      {
       "html": [
        "<div style=\"max-height:1000px;max-width:1500px;overflow:auto;\">\n",
        "<table border=\"1\" class=\"dataframe\">\n",
        "  <thead>\n",
        "    <tr style=\"text-align: right;\">\n",
        "      <th></th>\n",
        "      <th>Sample_ID</th>\n",
        "      <th>Patient_ID</th>\n",
        "      <th>Collection_Time</th>\n",
        "      <th>Study</th>\n",
        "      <th>TX_Time</th>\n",
        "      <th>DaysPostTransplant</th>\n",
        "    </tr>\n",
        "  </thead>\n",
        "  <tbody>\n",
        "    <tr>\n",
        "      <th>0</th>\n",
        "      <td>   L1_W2</td>\n",
        "      <td> L1</td>\n",
        "      <td> 2010-11-08 00:00:00</td>\n",
        "      <td> Lung</td>\n",
        "      <td> 2010-10-26 00:00:00</td>\n",
        "      <td>  13</td>\n",
        "    </tr>\n",
        "    <tr>\n",
        "      <th>1</th>\n",
        "      <td> L1_M1_5</td>\n",
        "      <td> L1</td>\n",
        "      <td> 2010-12-13 00:00:00</td>\n",
        "      <td> Lung</td>\n",
        "      <td> 2010-10-26 00:00:00</td>\n",
        "      <td>  48</td>\n",
        "    </tr>\n",
        "    <tr>\n",
        "      <th>2</th>\n",
        "      <td>   L1_M2</td>\n",
        "      <td> L1</td>\n",
        "      <td> 2011-02-07 00:00:00</td>\n",
        "      <td> Lung</td>\n",
        "      <td> 2010-10-26 00:00:00</td>\n",
        "      <td> 104</td>\n",
        "    </tr>\n",
        "    <tr>\n",
        "      <th>3</th>\n",
        "      <td> L1_M5_5</td>\n",
        "      <td> L1</td>\n",
        "      <td> 2011-04-11 00:00:00</td>\n",
        "      <td> Lung</td>\n",
        "      <td> 2010-10-26 00:00:00</td>\n",
        "      <td> 167</td>\n",
        "    </tr>\n",
        "    <tr>\n",
        "      <th>4</th>\n",
        "      <td> L1_M6_5</td>\n",
        "      <td> L1</td>\n",
        "      <td> 2011-05-16 00:00:00</td>\n",
        "      <td> Lung</td>\n",
        "      <td> 2010-10-26 00:00:00</td>\n",
        "      <td> 202</td>\n",
        "    </tr>\n",
        "    <tr>\n",
        "      <th>5</th>\n",
        "      <td>   L1_M7</td>\n",
        "      <td> L1</td>\n",
        "      <td> 2011-05-23 00:00:00</td>\n",
        "      <td> Lung</td>\n",
        "      <td> 2010-10-26 00:00:00</td>\n",
        "      <td> 209</td>\n",
        "    </tr>\n",
        "    <tr>\n",
        "      <th>6</th>\n",
        "      <td>   L1_M9</td>\n",
        "      <td> L1</td>\n",
        "      <td> 2011-08-05 00:00:00</td>\n",
        "      <td> Lung</td>\n",
        "      <td> 2010-10-26 00:00:00</td>\n",
        "      <td> 283</td>\n",
        "    </tr>\n",
        "    <tr>\n",
        "      <th>7</th>\n",
        "      <td>  L1_M13</td>\n",
        "      <td> L1</td>\n",
        "      <td> 2011-11-21 00:00:00</td>\n",
        "      <td> Lung</td>\n",
        "      <td> 2010-10-26 00:00:00</td>\n",
        "      <td> 391</td>\n",
        "    </tr>\n",
        "  </tbody>\n",
        "</table>\n",
        "<p>8 rows \u00d7 6 columns</p>\n",
        "</div>"
       ],
       "metadata": {},
       "output_type": "pyout",
       "prompt_number": 28,
       "text": [
        "  Sample_ID Patient_ID      Collection_Time Study              TX_Time  \\\n",
        "0     L1_W2         L1  2010-11-08 00:00:00  Lung  2010-10-26 00:00:00   \n",
        "1   L1_M1_5         L1  2010-12-13 00:00:00  Lung  2010-10-26 00:00:00   \n",
        "2     L1_M2         L1  2011-02-07 00:00:00  Lung  2010-10-26 00:00:00   \n",
        "3   L1_M5_5         L1  2011-04-11 00:00:00  Lung  2010-10-26 00:00:00   \n",
        "4   L1_M6_5         L1  2011-05-16 00:00:00  Lung  2010-10-26 00:00:00   \n",
        "5     L1_M7         L1  2011-05-23 00:00:00  Lung  2010-10-26 00:00:00   \n",
        "6     L1_M9         L1  2011-08-05 00:00:00  Lung  2010-10-26 00:00:00   \n",
        "7    L1_M13         L1  2011-11-21 00:00:00  Lung  2010-10-26 00:00:00   \n",
        "\n",
        "   DaysPostTransplant  \n",
        "0                  13  \n",
        "1                  48  \n",
        "2                 104  \n",
        "3                 167  \n",
        "4                 202  \n",
        "5                 209  \n",
        "6                 283  \n",
        "7                 391  \n",
        "\n",
        "[8 rows x 6 columns]"
       ]
      }
     ],
     "prompt_number": 28
    },
    {
     "cell_type": "code",
     "collapsed": false,
     "input": [],
     "language": "python",
     "metadata": {},
     "outputs": []
    }
   ],
   "metadata": {}
  }
 ]
}