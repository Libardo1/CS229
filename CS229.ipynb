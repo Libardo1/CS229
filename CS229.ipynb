{
 "metadata": {
  "name": ""
 },
 "nbformat": 3,
 "nbformat_minor": 0,
 "worksheets": [
  {
   "cells": [
    {
     "cell_type": "code",
     "collapsed": false,
     "input": [
      "import sys, os\n",
      "import numpy as np\n",
      "import matplotlib\n",
      "import matplotlib.pyplot as plt \n",
      "import pandas as pd\n",
      "import re\n",
      "import cmath\n",
      "import math\n",
      "import glob\n",
      "import subprocess\n",
      "%matplotlib inline\n",
      "import scipy.stats as stats\n",
      "import pylab as pl\n",
      "from scipy.spatial.distance import pdist, squareform\n",
      "from scipy.cluster.hierarchy import linkage, dendrogram\n",
      "from sklearn import svm, datasets"
     ],
     "language": "python",
     "metadata": {},
     "outputs": [],
     "prompt_number": 1
    },
    {
     "cell_type": "heading",
     "level": 3,
     "metadata": {},
     "source": [
      "Intro to ML- "
     ]
    },
    {
     "cell_type": "heading",
     "level": 4,
     "metadata": {},
     "source": [
      "Definition - "
     ]
    },
    {
     "cell_type": "markdown",
     "metadata": {},
     "source": [
      "Arthur Samuel on Machine learning from 1959: \n",
      "\n",
      "\"Field of study that gives computers the ability to learn without being explicitly programmed\""
     ]
    },
    {
     "cell_type": "heading",
     "level": 4,
     "metadata": {},
     "source": [
      "Supervised learning - "
     ]
    },
    {
     "cell_type": "markdown",
     "metadata": {},
     "source": [
      "Teach the computer how to do something. Apply this learning to new problems:\n",
      "\n",
      "* Classification problems\n",
      "* Reccomender systems\n",
      "* Identification of tumor type by expression profile\n"
     ]
    },
    {
     "cell_type": "heading",
     "level": 4,
     "metadata": {},
     "source": [
      "Unsupervised learning - "
     ]
    },
    {
     "cell_type": "markdown",
     "metadata": {},
     "source": [
      "Let the computer learn how to do something, and use this to determine structure and patterns in data:\n",
      "\n",
      "* Clustering problems\n",
      "* Classifying sub-populations of single cells\n"
     ]
    },
    {
     "cell_type": "heading",
     "level": 2,
     "metadata": {},
     "source": [
      "Supervised learning-"
     ]
    },
    {
     "cell_type": "heading",
     "level": 3,
     "metadata": {},
     "source": [
      "Regression versus classification - "
     ]
    },
    {
     "cell_type": "markdown",
     "metadata": {},
     "source": [
      "The objective of supervised learning is to $learn$ a function, $h :x \\mapsto y $, so that $h(x)$ is a good predictor of $y$. \n",
      "\n",
      "$x$ is often used to denote the input variables (features) whereas $y$ is the output (target). \n",
      "\n",
      "When $y$ is continuous, this is a $\\textbf{regression}$ problem. \n",
      "\n",
      "When $y$ is categorical (discrete), this is a $\\textbf{classification}$ problem. \n",
      "\n",
      "For a simple regression problem: \n",
      "\n",
      "* 13 attributes of housing markets around Boston along with median house price. \n",
      "\n",
      "* It is possible to predict the price of a market given its attributes?\n",
      "\n",
      "First, we examine the target data - "
     ]
    },
    {
     "cell_type": "code",
     "collapsed": false,
     "input": [
      "from sklearn.datasets import load_boston\n",
      "boston = load_boston()\n",
      "plt.hist(boston.target)\n",
      "plt.xlabel('price ($1000s)')\n",
      "plt.ylabel('count')"
     ],
     "language": "python",
     "metadata": {},
     "outputs": [
      {
       "metadata": {},
       "output_type": "pyout",
       "prompt_number": 4,
       "text": [
        "<matplotlib.text.Text at 0x1091d9850>"
       ]
      },
      {
       "metadata": {},
       "output_type": "display_data",
       "png": "[encoded data removed]",
       "text": [
        "<matplotlib.figure.Figure at 0x1069c2450>"
       ]
      }
     ],
     "prompt_number": 4
    },
    {
     "cell_type": "markdown",
     "metadata": {},
     "source": [
      "$\\textbf{Feature selection}$ is a simple, manual way to evaluate the relationship between the features and target - "
     ]
    },
    {
     "cell_type": "code",
     "collapsed": false,
     "input": [
      "# Use the following to get features names: print boston.DESCR\n",
      "i=0\n",
      "crime=boston.data[:,i]\n",
      "plt.scatter(crime,boston.target)\n",
      "plt.axis('tight')\n",
      "plt.xlabel('%s'%boston.feature_names[i])\n",
      "plt.ylabel('Price ($1000s)')"
     ],
     "language": "python",
     "metadata": {},
     "outputs": [
      {
       "metadata": {},
       "output_type": "pyout",
       "prompt_number": 5,
       "text": [
        "<matplotlib.text.Text at 0x109209ed0>"
       ]
      },
      {
       "metadata": {},
       "output_type": "display_data",
       "png": "[encoded data removed]",
       "text": [
        "<matplotlib.figure.Figure at 0x109212ed0>"
       ]
      }
     ],
     "prompt_number": 5
    },
    {
     "cell_type": "heading",
     "level": 3,
     "metadata": {},
     "source": [
      "Linear regression-"
     ]
    },
    {
     "cell_type": "heading",
     "level": 4,
     "metadata": {},
     "source": [
      "We expression our hypothesis as a linear funtion of our features - "
     ]
    },
    {
     "cell_type": "markdown",
     "metadata": {},
     "source": [
      "We ultimatly want a funtion, $h$, to predict the target value.\n",
      "\n",
      "$\\textbf{Linear regression}$ approximates $y$ as a linear funtion of $x$, our features: \n",
      "\n",
      "$y = h(x) = \\sum\\limits_{i=0}^n \\theta_i x_i = \\theta^T x $. \n",
      "\n",
      "Note that this funtion has an intercept term, $\\theta_o$, that we are leaving out of this definition.\n",
      "\n",
      "This an an example of a $\\textbf{discriminatative}$ learning algorithm:\n",
      "\n",
      "* It will try to learn the output given the features: $P(y \\mid x)$.\n",
      "\n",
      "The challenge is to us our $m$ training examples in order to parameterize $\\theta^T$ in the model."
     ]
    },
    {
     "cell_type": "code",
     "collapsed": false,
     "input": [
      "# Use linear regression package.\n",
      "from sklearn.linear_model import LinearRegression\n",
      "clf = LinearRegression()\n",
      "\n",
      "# When we fit the observed features to target, we determine the coefficients used in our linear funtion or model. \n",
      "clf.fit(boston.data,boston.target)\n",
      "# Pass the features for each point to the funtion, resulting in a prediction.\n",
      "predicted=clf.predict(boston.data)\n",
      "# Examine how well the prediction matches the data.\n",
      "plt.scatter(boston.target,predicted)\n",
      "plt.plot([0, 50], [0, 50], '--k')\n",
      "plt.axis('tight')\n",
      "plt.xlabel('True price ($1000s)')\n",
      "plt.ylabel('Predicted price ($1000s)')"
     ],
     "language": "python",
     "metadata": {},
     "outputs": [
      {
       "metadata": {},
       "output_type": "pyout",
       "prompt_number": 6,
       "text": [
        "<matplotlib.text.Text at 0x1092dfd50>"
       ]
      },
      {
       "metadata": {},
       "output_type": "display_data",
       "png": "[encoded data removed]",
       "text": [
        "<matplotlib.figure.Figure at 0x1092d8450>"
       ]
      }
     ],
     "prompt_number": 6
    },
    {
     "cell_type": "heading",
     "level": 4,
     "metadata": {},
     "source": [
      "A cost funtion is used to determine $\\theta$ in our linear regression model - "
     ]
    },
    {
     "cell_type": "markdown",
     "metadata": {},
     "source": [
      "One strategy for solving this problem is to find $\\theta$ that makes our prediction as close as possible to the target across our training examples.\n",
      "\n",
      "Specifically, we can define a $\\textbf{cost funtion}$ that chooses coefficients $\\theta$ such that $h(x)$, our prediction, is close to the target, $y$:\n",
      "\n",
      "$J(\\theta) = \\frac{1}{2} \\sum\\limits_{i=1}^m (h_{\\theta} (x^i) - y^i)^2$\n",
      "\n",
      "To be clear, $h_{\\theta}$ is the linear model parameterized by the coefficients $\\theta$.\n",
      "\n",
      "Thus, we can use this to find $\\theta$ that will minimize the squared distance (or squared error) between the prediction and the target.\n",
      "\n",
      "This is the least squares cost funtion that gives rise to the $\\textbf{ordinary least squares}$ regression model."
     ]
    },
    {
     "cell_type": "heading",
     "level": 4,
     "metadata": {},
     "source": [
      "The cost funtion is convex - "
     ]
    },
    {
     "cell_type": "markdown",
     "metadata": {},
     "source": [
      "Because the cost funtion is quadratic, it's easy to convince yourself that it's also convex.\n",
      "\n",
      "It will have a single global minimum.\n",
      "\n",
      "This is relevant, because it allows us to define an iterlative algorithm guaranteed to find the minimum.\n",
      "\n",
      "For example, set up a toy cost funtion and vary one of the parameters - "
     ]
    },
    {
     "cell_type": "code",
     "collapsed": false,
     "input": [
      "# Theta params\n",
      "t_o=4\n",
      "t_2=3\n",
      "\n",
      "# Features\n",
      "x_1=1\n",
      "x_2=2\n",
      "y_o=10\n",
      "\n",
      "def computeT(t_1):\n",
      "    # Linear model\n",
      "    h_theta=t_2*x_2+t_1*x_1+t_o\n",
      "    # Cost funtion\n",
      "    j_theta=(h_theta-y_o)**2\n",
      "    return j_theta\n",
      "\n",
      "# Sweep param\n",
      "t_1=np.linspace(-10,10,100)\n",
      "plt.scatter(t_1,computeT(t_1))\n",
      "plt.ylabel('J(Theta)')\n",
      "plt.xlabel('Theta_1')"
     ],
     "language": "python",
     "metadata": {},
     "outputs": [
      {
       "metadata": {},
       "output_type": "pyout",
       "prompt_number": 15,
       "text": [
        "<matplotlib.text.Text at 0x1095959d0>"
       ]
      },
      {
       "metadata": {},
       "output_type": "display_data",
       "png": "[encoded data removed]",
       "text": [
        "<matplotlib.figure.Figure at 0x109e7e8d0>"
       ]
      }
     ],
     "prompt_number": 15
    },
    {
     "cell_type": "markdown",
     "metadata": {},
     "source": [
      "As seen above, the change in $\\frac{\\partial}{\\partial \\theta_1}$ will be negative for all values except the minimum, $\\theta_1=0$.\n",
      "\n",
      "Of course, it forms a convex surface if all paramters are varied. "
     ]
    },
    {
     "cell_type": "heading",
     "level": 4,
     "metadata": {},
     "source": [
      "Gradient descent, an algorithm for finding $\\theta$ that minimizes the cost funtion - "
     ]
    },
    {
     "cell_type": "markdown",
     "metadata": {},
     "source": [
      "So, we need a search algorithm to find $\\theta$ that will minimize squared error and converge to the local minimum.\n",
      "\n",
      "Gradient descent is one algorithm for doing this.\n",
      "\n",
      "It starts with a guess for $\\theta$ and iterativly changes $\\theta$ in the direction of greatest descent of $J(\\theta)$.\n",
      "\n",
      "With $\\alpha$ as the learning rate and := indicating assignment of values (as opposed to assertion of equality), for any element $j$ of $\\theta$:\n",
      "\n",
      "$ \\theta_j := \\theta_j - \\alpha \\frac{\\partial}{\\partial \\theta_j} J(\\theta) $ where the partial derivative of $J(\\theta)$ with respect to $\\theta_j$ indicates the direction of steepest descent of the function.\n",
      "\n",
      "Using the above plot, we can see that is inutitive and will update $\\theta$ in the correct direction for values greater / less than the minimum."
     ]
    },
    {
     "cell_type": "heading",
     "level": 4,
     "metadata": {},
     "source": [
      "Derivation - "
     ]
    },
    {
     "cell_type": "markdown",
     "metadata": {},
     "source": [
      "We can derive Gradient descent analytically, starting with the cost funtion: \n",
      "    \n",
      "$$J(\\theta) = \\frac{1}{2} \\sum\\limits_{i=1}^m (h_{\\theta} (x^i) - y^i)^2$$\n",
      "\n",
      "Lets neglect the summation, so we will show this for one training example:\n",
      "    \n",
      "$$J(\\theta) = \\frac{1}{2} (h_{\\theta} (x^i) - y^i)^2$$\n",
      "\n",
      "We compute the partial with respect to one of our parameters, $\\theta_j$:\n",
      "\n",
      "$$ \\frac{\\partial J(\\theta)}{\\partial \\theta_j} = \\frac{\\partial}{\\partial \\theta_j}\\frac{1}{2} (h_{\\theta} (x) - y)^2 $$\n",
      "\n",
      "$$ = (h_{\\theta} (x) - y) \\frac{\\partial}{\\partial \\theta_j} (\\sum\\limits_{j=1}^m \\theta_j (x_j)) - y^i $$\n",
      "\n",
      "$$ = (h_{\\theta} (x) - y) x_j $$"
     ]
    },
    {
     "cell_type": "markdown",
     "metadata": {},
     "source": [
      "Supplemental reading on this:\n",
      "    \n",
      "* http://spin.atomicobject.com/2014/06/24/gradient-descent-linear-regression/\n",
      "    \n",
      "* http://www.holehouse.org/mlclass/01_02_Introduction_regression_analysis_and_gr.html\n",
      "    "
     ]
    },
    {
     "cell_type": "heading",
     "level": 4,
     "metadata": {},
     "source": [
      "The least mean squares (Widrow-Hoff) learning rule - "
     ]
    },
    {
     "cell_type": "markdown",
     "metadata": {},
     "source": [
      "This gives us the $\\textbf{least mean squares (LMS) updater rule}$:\n",
      "\n",
      "$$ \\theta_j := \\theta_j - \\alpha \\frac{\\partial}{\\partial \\theta_j} J(\\theta) $$\n",
      "\n",
      "$$ \\theta_j := \\theta_j + \\alpha (y^i - (h_{\\theta} (x^i)) x_j^i $$\n",
      "\n",
      "To be clear, $j$ indicates a specific feature.\n",
      "\n",
      "In practice, this is performed for all values of $j$ simultanously: $x$ and $\\theta$ are vectorized when we actually run this computationally. \n",
      "\n",
      "This definition also assumes a single training example, ($x^i$, $y^i$).\n",
      "\n",
      "Intuitivly, we see:\n",
      "\n",
      "* The magnitude of the update is proportional to the error term: $y^i - (h_{\\theta} (x^i)$.\n",
      "\n",
      "* $J(\\theta)$ is convex, quadratic with one global minimum, so gradient descent - in this case - is used to minimize a quadratic function.\n",
      "\n",
      "Note that we can also run this in batch, meaning that we compute the update for all training examples before taking another step:\n",
      "    \n",
      "$$ \\theta_j := \\theta_j + \\alpha  \\sum\\limits_{i=1}^m (y^i - h_{\\theta} (x^i)) x_j^i $$\n",
      "\n",
      "Alternativly, we can choose stochastic gradient descent, which means we update $\\theta$ and take a step after processing a single training example."
     ]
    },
    {
     "cell_type": "heading",
     "level": 4,
     "metadata": {},
     "source": [
      "Example of stochastic gradient descent - "
     ]
    },
    {
     "cell_type": "code",
     "collapsed": false,
     "input": [
      "# This is an implementation of stochastic gradient descent.\n",
      "\n",
      "def lms(data,eta,iterations):\n",
      "\n",
      "    # Get the number of attributes/features\n",
      "    target = data[1]\n",
      "    data = data[0]\n",
      "    dim = data.shape[1] \n",
      "    num_points = data.shape[0]\n",
      "    \n",
      "    # Starting guess for theta.\n",
      "    w = np.ones(dim) # that is the weight vector as column vector   \n",
      "    print \"Starting theta: %s\"%w\n",
      "\n",
      "    # Number of training examples to sample.\n",
      "    for i in range(iterations):\n",
      "        \n",
      "        # Pick a sample from the training data.\n",
      "        next = np.random.randint(num_points)  \n",
      "        \n",
      "         # Make a prediction based upon the current theta (w).\n",
      "        predict = np.dot(data[next,],w) \n",
      "        \n",
      "        # Determine the error.\n",
      "        error = target[next]-predict       \n",
      "        \n",
      "        # Increment theta: training example * error * step size + pre-existing guess.\n",
      "        w = w + eta*error*data[next,]  \n",
      "        \n",
      "    print \"Theta after %s iterations: %s\"%(iterations,w)\n",
      "    return w"
     ],
     "language": "python",
     "metadata": {},
     "outputs": [],
     "prompt_number": 19
    },
    {
     "cell_type": "code",
     "collapsed": false,
     "input": [
      "# Set of training examples.\n",
      "m=10\n",
      "# Number of features and the actual coefficient used to produce target data.\n",
      "f=1\n",
      "theta=0.2\n",
      "toy=np.arange(m).reshape((m,f))\n",
      "# Make target data\n",
      "target=toy*theta"
     ],
     "language": "python",
     "metadata": {},
     "outputs": [],
     "prompt_number": 20
    },
    {
     "cell_type": "code",
     "collapsed": false,
     "input": [
      "# Set iterations used for stochastic gradient descent.\n",
      "it=20\n",
      "eta=.05\n",
      "plt.subplot(1,2,1)\n",
      "data_zipped=(toy,target)\n",
      "w=lms(data_zipped,iterations=it,eta=eta)\n",
      "plt.plot(toy,target,'g.',markersize=20,alpha=0.5)\n",
      "plt.plot(toy,np.dot(toy,w),'r.',markersize=20,alpha=0.5)\n",
      "plt.show()\n",
      "data_zipped = (toy,target)"
     ],
     "language": "python",
     "metadata": {},
     "outputs": [
      {
       "output_type": "stream",
       "stream": "stdout",
       "text": [
        "Starting theta: [ 1.]\n",
        "Theta after 20 iterations: [ 0.33772843]\n"
       ]
      },
      {
       "metadata": {},
       "output_type": "display_data",
       "png": "[encoded data removed]",
       "text": [
        "<matplotlib.figure.Figure at 0x109588810>"
       ]
      }
     ],
     "prompt_number": 22
    },
    {
     "cell_type": "heading",
     "level": 4,
     "metadata": {},
     "source": [
      "Useful tricks for gradient descent - "
     ]
    },
    {
     "cell_type": "markdown",
     "metadata": {},
     "source": [
      "(1) Feature scaling\n",
      "\n",
      "* Mean normalization can be used to ensure all features have a mean value of zero: $x_1=\\frac{x_1 - \\mu_1}{\\sigma_1}$\n",
      "\n",
      "(2) Alpha\n",
      "\n",
      "* Enesure the step size is sufficiently small so that the funtion will converge."
     ]
    },
    {
     "cell_type": "heading",
     "level": 4,
     "metadata": {},
     "source": [
      "A closed form solution for $\\theta$ that minimizes the cost funtion - "
     ]
    },
    {
     "cell_type": "markdown",
     "metadata": {},
     "source": [
      "Rather than using an iterative algorithm, we can also try to find a closed-form solution for $\\theta$ that minimizes $J(\\theta)$.\n",
      "    \n",
      "First, recall the gradient of a matrix:\n",
      "    \n",
      "\\begin{equation} (\\nabla_A f(A))_{ij} = \\frac{\\partial(A)}{\\partial(A_{ij})} \\end{equation}"
     ]
    },
    {
     "cell_type": "markdown",
     "metadata": {},
     "source": [
      "Given a matrix:\n",
      "\n",
      "\\begin{equation} A= \\begin{bmatrix} A_{11} & A_{12} \\\\ A_{21} & A_{22} \\end{bmatrix} \\end{equation}\n",
      "\n",
      "And a funtion applied to the matrix that returns a scalar:\n",
      "\n",
      "\\begin{equation} f(A) = \\frac{3}{2}A_{11} + 5A_{12}^2+A_{21}A_{22} \\end{equation}\n",
      "\n",
      "Then the gradient is simply the partial derivative of the funtion with respect to each element in the matrix:\n",
      "\n",
      "\\begin{equation} \\nabla_A f(A) = \\begin{bmatrix} \\frac{3}{2} & 10A_{12} \\\\ A_{22} & A_{21} \\end{bmatrix} \\end{equation}"
     ]
    },
    {
     "cell_type": "markdown",
     "metadata": {},
     "source": [
      "With this in mind, let's re-write J($\\theta$).\n",
      "\n",
      "First, we define the $\\textbf{design matrix}$, $X$, that contains traning example input values as rows. \n",
      "\n",
      "We also define a vector, $y_{tar}$, with the target values.\n",
      "\n",
      "With some math (see lecture notes), J($\\theta$) can be re-cast in terms of $X$ and $y$: \n",
      "\n",
      "$J(\\theta) = \\frac{1}{2} \\sum\\limits_{i=1}^m (h_{\\theta} (x^i) - y^i)^2 = \\frac{1}{2} (X\\theta - y_{tar})^T (X\\theta - y_{tar}) $\n",
      "\n",
      "We compute the derivative:\n",
      "\n",
      "\\begin{equation} \\nabla_{\\theta} J(\\theta) \\end{equation}\n",
      "\n",
      "After some math (see lecture notes), we get the following:\n",
      "\n",
      "\\begin{equation} \\nabla_{\\theta} J(\\theta) = X_T X \\theta - X^T y_{tar} \\end{equation}\n",
      "\n",
      "Set this to zero in order get the value of $\\theta$ at which there's no change in the cost funtion, indicating convergence.\n",
      "\n",
      "Thus, $\\theta$ that minimizes $J(\\theta)$ is:\n",
      "\n",
      "\\begin{equation} \\theta = (X_T X)^{-1} X^T y_{tar} \\end{equation}"
     ]
    },
    {
     "cell_type": "heading",
     "level": 3,
     "metadata": {},
     "source": [
      "Non-parametric linear regression - "
     ]
    },
    {
     "cell_type": "markdown",
     "metadata": {},
     "source": [
      "The above examples represent a $\\textbf{parametric learning algorithm}$. \n",
      "\n",
      "We fit a fixed set of parameters $\\theta$, discard the training set, and use the obtained funtion $h_{\\theta}$. Memory requirements only require keeping $\\theta$.\n",
      "\n",
      "In contrast, in a $\\textbf{non-parametric learning algorithm}$ we need to keep the full training set. \n",
      "\n",
      "In turn, memory requirments grows (linearly) as a funtion of the training set size. "
     ]
    },
    {
     "cell_type": "heading",
     "level": 4,
     "metadata": {},
     "source": [
      "Locally weighted linear regression - "
     ]
    },
    {
     "cell_type": "markdown",
     "metadata": {},
     "source": [
      "We want to make a prediction at a specific location, x. \n",
      "\n",
      "Locally weighted linear regression will look in the vicinity of x and use those $local$ examples to define $h_{x}$.\n",
      "\n",
      "That is why we need to keep the training data in memory!\n",
      "\n",
      "In this case, the cost funtion is similar to what we had previously: $J(\\theta) = \\frac{1}{2} \\sum\\limits_{i=1}^m w^i (h_{\\theta} (x^i) - y^i)^2$\n",
      "\n",
      "But it includes the term $w^i$, which will discount training examples from the point, $x$, at which we want to make a prediction.\n",
      "\n",
      "$w^i = exp [-\\frac{(x^i - x)^2}{2}]$ and can include $\\tau^2$, which can influence the number of points we include.\n",
      "\n",
      "Thus, if $x^i - x$ is large $w^i \\approx 0$ and the training example, $x^i$ will not be included in determination of $\\theta$.\n",
      "\n",
      "We implement in this homework #1.\n",
      "\n",
      "The downside is that we re-fit the model every time we make a prediction for a given value of $x$."
     ]
    },
    {
     "cell_type": "heading",
     "level": 3,
     "metadata": {},
     "source": [
      "Probabilistic interpretation of linear regression - "
     ]
    },
    {
     "cell_type": "heading",
     "level": 4,
     "metadata": {},
     "source": [
      "Maximum likliehood estimation is a probabilistic framing of the previously defined cost funtion - "
     ]
    },
    {
     "cell_type": "markdown",
     "metadata": {},
     "source": [
      "Why do we choose to minimize the squared error?\n",
      "\n",
      "Let's make some assumptions:\n",
      "\n",
      "(1) Assume that housing pricing are a linear funtion of the various features along with an error term, which includes noise (e.g., emotions that affect transaction price): \n",
      "\n",
      "$y^i = \\theta^T x^i + \\epsilon^i$.\n",
      "\n",
      "(2) Assume noise is distributed according to gaussian with $\\mu=0$ and variance $\\sigma^2$. \n",
      "\n",
      "(3) Assume that every housing transaction suffers from this noise and that noise in each transaction is independent. \n",
      "\n",
      "The probability density funtion of $\\epsilon^i$ is:\n",
      "\n",
      "$$ P(\\epsilon^i) = \\frac{1}{\\sigma \\sqrt{2\\pi}} exp\\frac{-(\\epsilon^i)^{2}}{2\\sigma^2} $$"
     ]
    },
    {
     "cell_type": "markdown",
     "metadata": {},
     "source": [
      "The difference between the prediction and the actual values is normally distrubted. \n",
      "\n",
      "We are saying that there is a distribution of outcomes, $y^i$, given $x_i$ and parameterized by $\\theta$.\n",
      "\n",
      "The expected value of this distribution is simply the guess dervied from our model, $\\theta^T x^i$.\n",
      "\n",
      "Therefore, substituting for $\\epsilon$ using our definition ($y^i = \\theta^T x^i + \\epsilon^i$) above:\n",
      "\n",
      "$$ p(y^i \\mid x^i;\\theta) = \\frac{1}{\\sqrt{2 \\pi \\sigma}} exp \\frac{ -(y^i - \\theta^{T}x^i)^2 }{2 \\sigma^2} $$\n",
      " \n",
      "Thus, there is a normal distrubtion of values, $y$, for any training example $x$ parameterized by $\\theta$. "
     ]
    },
    {
     "cell_type": "markdown",
     "metadata": {},
     "source": [
      "We can re-cast this as a funtion of $\\theta$. This is the liklihood funtion, meaning the liklihood of $\\theta$ given our training data.\n",
      "\n",
      "$$L(\\theta) = P(y_{tar} \\mid X;\\theta) $$\n",
      "\n",
      "We then want to find $\\theta$ that maximizes the probability of observing our target prices given the observed features. \n",
      "\n",
      "This is simply the product of the computed target probability (given features parameterized by $\\theta$) for all training data: \n",
      "\n",
      "$L(\\theta) = P(y_{tar} \\mid X;\\theta) = \\prod\\limits_{i=1}^m P(y_{i} \\mid x^i;\\theta) $.\n",
      "\n",
      "Find $\\theta$ that maximizes the liklihood of the data:\n",
      "\n",
      "$$  l(\\theta) = log L(\\theta) = log \\prod\\limits_{i=1}^m P(y_{i} \\mid x^i;\\theta) = m \\times log \\frac{1}{\\sqrt{2 \\pi \\sigma}} + \\sum\\limits_{i=1}^m - \\frac{(y^i - \\theta^{T}x^i)^2}{2 \\sigma^2} = m \\times log \\frac{1}{\\sqrt{2 \\pi}\\sigma} + \\sum\\limits_{i=1}^m - \\frac{(y^i - h_{\\theta}(x^i))^2}{2 \\sigma^2} $$\n",
      "\n",
      "Thus, maximizing $L(\\theta)$ is the same as minimizing our initial least squares cost funtion, $J(\\theta) = \\frac{1}{2} \\sum\\limits_{i=1}^m (h_{\\theta} (x^i) - y^i)^2$.\n",
      "\n",
      "Furthermore, we now see that the Gaussian assumption underpins the previously defined least squares model."
     ]
    },
    {
     "cell_type": "heading",
     "level": 3,
     "metadata": {},
     "source": [
      "Logistic regression-"
     ]
    },
    {
     "cell_type": "heading",
     "level": 4,
     "metadata": {},
     "source": [
      "Maximum likihood model applied to logistic regression - "
     ]
    },
    {
     "cell_type": "markdown",
     "metadata": {},
     "source": [
      "Unlike linear regression, logistic regression is a classication algorithm.\n",
      "\n",
      "This is useful, because linear regression will often fail on training data with a categorical (binary) target.\n",
      "\n",
      "Assuming we have two classes, with $y \\in \\{0,1\\}$.\n",
      "\n",
      "For linear regression, we defined a funtion $h_{\\theta}(x)$ that was linear. \n",
      "\n",
      "For logistic regression, we simply enforce that $h_{\\theta}(x)$ outputs values between 0 and 1 and use the logistic funtion:\n",
      "\n",
      "$$ P(y=1 \\mid x;\\theta) = h_{\\theta}(x) = g(\\theta^T x) = \\frac{1}{1+e^{-\\theta^T x}}$$\n",
      "\n",
      "$$ P(y=0 \\mid x;\\theta) = 1 - h_{\\theta}(x) $$ \n",
      "\n",
      "The logistic funtion is a special case of generalized linear models, and is a consequence of a specific set of assumptions (discussed later).\n",
      "\n",
      "Compress the two equations above: \n",
      "\n",
      "$$ L(\\theta) = P(y \\mid x;\\theta) = (h_{\\theta}(x))^y (1 - h_{\\theta}(x))^{1-y} $$ \n",
      "\n",
      "$$ l(\\theta) = log L(\\theta) = \\sum\\limits_{i=1}^m y^i \\times log h_{\\theta}(x^i) + (1-y^i) \\times log(1- h_{\\theta}(x^i)) $$"
     ]
    },
    {
     "cell_type": "markdown",
     "metadata": {},
     "source": [
      "We previously showed that the maximum liklihood estimate for linear regression is used to derive the least squares cost funtion. \n",
      "\n",
      "As with $J(\\theta)$ for linear regression, $l(\\theta)$ for logistic regression is convex.\n",
      "\n",
      "As with $J(\\theta)$ minimization for linear regression, we now maximizes the liklihood, $l(\\theta)$.\n",
      "\n",
      "Based upon the class notes, we know the gradient ascent rule is used iterativly update $\\theta$: \n",
      "\n",
      "$ \\theta_j := \\theta_j + \\alpha \\frac{\\partial}{\\partial \\theta_j} l(\\theta) $ where the update is simultanously performed for all values of $j$.\n",
      "\n",
      "This solves to:\n",
      "\n",
      "$$ \\theta_j := \\theta_j + \\alpha (y^i - (h_{\\theta} (x^i)) x_j^i $$\n",
      "\n",
      "Thus, we know the following for a single training example:\n",
      "\n",
      "The $\\theta$ that maximizes this funtion will have $\\frac{\\partial}{\\partial \\theta_j} l(\\theta) = 0$."
     ]
    },
    {
     "cell_type": "heading",
     "level": 4,
     "metadata": {},
     "source": [
      "Gradient ascent algorithm can be used to find $\\theta$ that maximizes $L(\\theta)$ - "
     ]
    },
    {
     "cell_type": "markdown",
     "metadata": {},
     "source": [
      "This is analogus to derivation of gradient descent in the case of linear regression.\n",
      "\n",
      "Previously we wanted to minimize our cost funtion, $J(\\theta)$. Now we want to maximize $l(\\theta)$.\n",
      "\n",
      "We use $\\textbf{gradient ascent}$ to iterativly update $\\theta$: $ \\theta_j := \\theta_j + \\alpha \\frac{\\partial}{\\partial \\theta_j} l(\\theta) $.\n",
      "\n",
      "Solving this, as we did before, gives the stochastic gradient ascent updater rule:\n",
      "\n",
      "$$ \\theta_j := \\theta_j + \\alpha (y^i - (h_{\\theta} (x^i)) x_j^i $$\n",
      "\n",
      "Recall for linear regression: $h_{\\theta}=\\theta^Tx$.\n",
      "\n",
      "Now, for logistic regression: $h_{\\theta}=\\frac{1}{1+e^{-\\theta^T x}}$.\n",
      "\n",
      "Generally, we will find a broad class of algorithms with the same form but different $h_{\\theta}$."
     ]
    },
    {
     "cell_type": "heading",
     "level": 4,
     "metadata": {},
     "source": [
      "Another algorithm, Newton's method, for fitting logistic regression model - "
     ]
    },
    {
     "cell_type": "markdown",
     "metadata": {},
     "source": [
      "For linear regression, we used the normal equations to find a closed-form solution for $\\theta$ that maximizes the liklihood.\n",
      "\n",
      "There is no analogous closed-form solution for the case of logistic regression.\n",
      "\n",
      "Again, to maximize or minimize a funtion we simply take the derivative and set it to zero.\n",
      "\n",
      "$ f(\\theta) = \\frac{d}{d\\theta}l(\\theta) $ and want to find $f(\\theta) = 0$.\n",
      "\n",
      "We know that $f(\\theta)$ is a curve and simply want to move along it for different values of $\\theta$.\n",
      "\n",
      "For any value of $\\theta_o$, $f'(\\theta_o) = \\frac{f(\\theta)'}{\\Delta}$ where $\\Delta$ is the distance between guesses for $\\theta$. "
     ]
    },
    {
     "cell_type": "heading",
     "level": 3,
     "metadata": {},
     "source": [
      "Generalized linear models - "
     ]
    },
    {
     "cell_type": "heading",
     "level": 4,
     "metadata": {},
     "source": [
      "Defining the exponential family of distributions - "
     ]
    },
    {
     "cell_type": "markdown",
     "metadata": {},
     "source": [
      "For both regression and classification problems, the output can be modeled assuming a particular distribution.\n",
      "\n",
      "For classification problems with binary output, the output can be modeled as Bernoulli random variable.\n",
      "\n",
      "For regression problems, we can model the output as Gaussian random variable.\n",
      "\n",
      "Both Bernoulli and Gaussian are members of the exponential family of distribution.  \n",
      "\n",
      "Because they are members of the $\\textbf{exponential family}$, they can be re-written as a $\\textbf{generalized linear model}$:\n",
      "\n",
      "$$P(y_i; \\eta) = b(y) \\times e^{ \\eta^T T(y) - a(\\eta) }$$\n",
      "\n",
      "For some b,T,a and parameter $\\eta$ the above expression defines a set of distributions for y.\n",
      "\n",
      "Bernoulli, Gaussian, or any other distribution in the exponential family can be re-cast as a $\\textbf{generalized linear model}$.\n",
      "\n",
      "The paramters b,T,a are set based upon the assumption for the underlying distribution. \n",
      "\n",
      "For example, $Ber(\\phi)$ = $Exp(\\eta)$ with $b,T,a$ set assuming a Bernoulli distribution.\n",
      "\n",
      "Moreover, there is a relationship between parameters that ensure equivalance, as explained below."
     ]
    },
    {
     "cell_type": "heading",
     "level": 4,
     "metadata": {},
     "source": [
      "Define the relationship between $\\eta$ and $\\phi$ for a Bernoulli distribution - "
     ]
    },
    {
     "cell_type": "markdown",
     "metadata": {},
     "source": [
      "From our work above, we define the probability of observing our training data assuming a Bernoulli distribution.\n",
      "\n",
      "$$ L(\\theta) = P(y \\mid x;\\theta) = (h_{\\theta}(x))^y (1 - h_{\\theta}(x))^{1-y} $$ \n",
      "    \n",
      "To simplify, we can state:\n",
      "    \n",
      "$$P(y;\\phi) = \\phi^y (1-\\phi)^{1-y}$$\n",
      "\n",
      "Through some math (see notes), this can be re-written in a form that makes it easy to extract the exponential family terms:\n",
      "\n",
      "$$ e^{(log\\frac{\\phi}{1-\\phi}) y + log(1-\\phi)} $$\n",
      "\n",
      "And then the general terms for any exponential family are clear:\n",
      "\n",
      "$$ \\eta = log\\frac{\\phi}{1-\\phi} $$\n",
      "$$ T(y) = y $$\n",
      "$$ a(\\eta) = log(1-\\phi)$$\n",
      "\n",
      "Inverting the first equation gives the logistic funtion.\n",
      "\n",
      "$$ \\phi = \\frac{1}{1 + e^{-\\eta}} $$\n",
      "\n",
      "This is the logistic funtion.\n",
      "\n",
      "Moreover, the logistic funtion sets the relationship between Bernoulli parameter $\\phi$ and generalized linear model parameter $\\eta$ to ensure equality, as defined above."
     ]
    },
    {
     "cell_type": "heading",
     "level": 4,
     "metadata": {},
     "source": [
      "Applying generalized linear models to a classification problem - "
     ]
    },
    {
     "cell_type": "markdown",
     "metadata": {},
     "source": [
      "We are interested in modeling the distribution of $y$ given $x$ and parameterized by $\\theta$: $P(y) \\mid x;\\theta$\n",
      "\n",
      "Therefore, we must determine the relationship between $x$, $\\theta$, and $\\eta$.\n",
      "\n",
      "Critically, we make the $\\textbf{assumption}$ that the relationship between $x$, $\\theta$, and $\\eta$ is $\\textbf{linear}$: \n",
      "\n",
      "$$\\eta=\\theta^Tx$$\n",
      "\n",
      "Once this is assumed, derivations for each distribution type fall out."
     ]
    },
    {
     "cell_type": "heading",
     "level": 4,
     "metadata": {},
     "source": [
      "Logistic regression is a consequence of assuming a Bernoulli output distribution - "
     ]
    },
    {
     "cell_type": "markdown",
     "metadata": {},
     "source": [
      "We start by assuming a classification problem, such as identification of cancer type (e.g., malignant or not).\n",
      "\n",
      "Again, the prediction has two classes, with $y \\in \\{0,1\\}$.\n",
      "\n",
      "We assume that the output parameter is a $\\textbf{Bernoulli}$ random variable.\n",
      "\n",
      "The prediction, $P(y \\mid x;\\theta)$, is defined by an exponential family distribution with respect to $\\eta$.\n",
      "\n",
      "We choose paramters in the generalized linear model $b(y)$, $T(y)$, and $a()$ to give us $\\textbf{Bernoulli}$ density.\n",
      "\n",
      "Given these assumptions, we define a $\\textbf{model}$.\n",
      "\n",
      "Recall that a Bernoulli random variable takes value 1 with success probability $\\phi$:\n",
      " \n",
      "$ E(y \\mid x;\\theta) = P(y=1; \\theta, x) = \\phi $ where $\\phi = f(\\theta,x)$\n",
      "\n",
      "From the exponential family definition above, we can determine the expected value of y, our hypothesis:\n",
      "\n",
      "$$ E(y \\mid x;\\theta) = P(y=1; \\theta, x) = h_{\\theta}(x) = \\phi = \\frac{1}{1 + e^{-\\eta}} = \\frac{1}{1 + e^{-\\theta x}} $$\n",
      "\n",
      "Thus, the logistic regression model falls out of our generalized linear model assuming a Bernoulli distribution for the output."
     ]
    },
    {
     "cell_type": "heading",
     "level": 4,
     "metadata": {},
     "source": [
      "Likewise linear regression is a consequence of these assumptions - "
     ]
    },
    {
     "cell_type": "markdown",
     "metadata": {},
     "source": [
      "Recall the density funtion for Gaussian distribution:\n",
      "\n",
      "$$ P(y;\\mu,\\sigma) = \\frac{1}{\\sigma \\sqrt{2\\pi}} exp(-\\frac{(y-\\mu)^{2}}{2\\sigma^2}) $$ \n",
      "\n",
      "Again (see detailed notes), the idea is to re-cast the equation so that we can extract the exponential family terms:\n",
      "\n",
      "$$ P(y;\\mu,\\sigma) = \\frac{1}{\\sigma \\sqrt{2\\pi}} exp(-0.5 y^2) exp(\\mu y - 0.5\\mu^2) $$\n",
      "\n",
      "Where:\n",
      "\n",
      "$$b(y) = \\frac{1}{\\sigma \\sqrt{2\\pi}} exp(-0.5 y^2) $$\n",
      "$$\\eta=\\mu$$\n",
      "$$T(y)=y$$\n",
      "$$a(\\eta)=0.5\\mu^2$$\n",
      "\n",
      "Like the case above, we can determine the expected value of the Gaussian:\n",
      "\n",
      "$$ E(y \\mid x;\\theta) = h_{\\theta}(x) = \\mu $$\n",
      "\n",
      "We determine the mapping between Gaussian paramter $\\theta$ and exponential paramter $\\eta$:\n",
      "\n",
      "$$ E(y \\mid x;\\theta) = h_{\\theta}(x) = \\mu = \\eta = \\theta^Tx$$\n",
      "\n",
      "Interestingly, the linear regression model falls out of a generalized linear model assuming Normal distribution for the output."
     ]
    },
    {
     "cell_type": "heading",
     "level": 4,
     "metadata": {},
     "source": [
      "Softmax regression - "
     ]
    },
    {
     "cell_type": "markdown",
     "metadata": {},
     "source": [
      "A type of classification problem where y can take on $k$ different classes where $y \\in \\{0,1, ... k\\}$.\n",
      "\n",
      "Parameters of the multinomial specify the liklihood of getting each outcome, and all add to one.\n",
      "\n",
      "We need to find b, T, a such that any multinomial distrubtion can be re-cast as a generalized linear model."
     ]
    },
    {
     "cell_type": "heading",
     "level": 3,
     "metadata": {},
     "source": [
      "Generative learning algorithms - "
     ]
    },
    {
     "cell_type": "markdown",
     "metadata": {},
     "source": [
      "The prior learning algorithms that we discussed (linear and logistic regression) were $\\textbf{discriminatative}$.\n",
      "\n",
      "It will try to learn the output given the features: $P(y \\mid x)$.\n",
      "\n",
      "Alternativly, we can focus just on building a model for each of the classes indepedently.\n",
      "\n",
      "In these cases, we try to model the distribution of features for either class."
     ]
    },
    {
     "cell_type": "markdown",
     "metadata": {},
     "source": [
      "Then, we can try to match new samples to both models.\n",
      "\n",
      "These $\\textbf{generative}$ models learn the features, given the label, $P(x \\mid y)$, and the class prior $P(y)$.\n",
      "\n",
      "We can then use $\\textbf{Bayes rule}$: \n",
      "\n",
      "$$ P(Y=1|X) = \\frac{P(X|y=1)P(y=1)}{P(X)} $$"
     ]
    },
    {
     "cell_type": "heading",
     "level": 4,
     "metadata": {},
     "source": [
      "Gaussain discriminant analysis -"
     ]
    },
    {
     "cell_type": "markdown",
     "metadata": {},
     "source": [
      "Let's start with a simple and fast, but inaccurate, learning algorithm.\n",
      "\n",
      "As with all generative learning algorithms, we learn $P(X|y)$. \n",
      "\n",
      "Assuming features can be modeled using a normal distribution, we use the multivariate Gaussian to model the probability of feature values with respect to class type:\n",
      "\n",
      "$$ P(x \\mid y_o) = \\frac{1}{\\Sigma^{0.5} (2 \\pi)^{0.5n} } exp -\\frac{ (x-\\mu_o) (x-\\mu_o)^T }{2 \\Sigma} $$\n",
      "\n",
      "If the class labels are either 0 or 1, we know that the class prior is a Bernoulli distribution. \n",
      "\n",
      "$$ P(y) = \\phi^y (1-\\phi)^{1-y} $$\n",
      "\n",
      "Model $P(X|y=0)$ as the multi-variate Gaussian with $\\mu_o$ as the mean of Gaussian density for the negatives examples (above).\n",
      "\n",
      "Model $P(X|y=1)$ as the multi-variate Gaussian with $\\mu_1$ as the mean of Gaussian density for the positive examples. \n",
      "\n",
      "Once we've learned these (e.g., have a model for each), then we will use Bayes' rule to compute $P(y \\mid X)$.\n",
      "\n",
      "Using the joint likelihood function (which implements Bayes rule):\n",
      "\n",
      "$$ l(\\phi,\\mu_o,\\mu_1,\\Sigma) = \\sum_{i=1}^m log (P(x \\mid y)) p(y)$$\n",
      "\n",
      "If we set the derivative of the likelihood funtion to zero, we can find the expected value for our model parameters, as we did in the homework."
     ]
    },
    {
     "cell_type": "heading",
     "level": 4,
     "metadata": {},
     "source": [
      "Relationship between GDA and logistic regression -"
     ]
    },
    {
     "cell_type": "markdown",
     "metadata": {},
     "source": [
      "So, for a set of values (X), we simply use Bayes rule and our models for $P(X \\mid y)$ to compute a value (probability) for $P(y \\mid X)$.\n",
      "\n",
      "As we show in the homework, computing GDA for a large number of points has a logistic function shape."
     ]
    },
    {
     "cell_type": "heading",
     "level": 4,
     "metadata": {},
     "source": [
      "Naive bayes "
     ]
    },
    {
     "cell_type": "markdown",
     "metadata": {},
     "source": [
      "This is commonly applied in cases where there are too many features to easily model using a multivariate Gaussian.\n",
      "\n",
      "For example, consider text classification. We convert an e-mail into a bit vector where each position specifies a word out of a (large, e.g., 10,000 word) dictionary. \n",
      "\n",
      "The Naive Bayes assumption is that each word, $x_i$, is conditionally independent, given y:\n",
      "\n",
      "$P(X \\mid y) = P(x_1,x_2,x_3 \\mid y) = P(x_1 \\mid y)$$P(x_2 \\mid y)$$P(x_3 \\mid y) = \\prod\\limits_{i=1}^{m} p(x_i \\mid y)$\n",
      "\n",
      "When m indexes over the dictionary and the probabiluty of each word appearing is independent of seeing any other.\n",
      "\n",
      "Using Bayes rule, we then compute the prected class for any given e-mail:\n",
      "\n",
      "$$ P(Y=1\\mid X) = \\frac{P(X \\mid y=1)P(y=1)}{P(X)} $$\n",
      "\n",
      "Furthermore, in class we also showed that we can compute the joint likelihood, which is the product of predicted value for our class. \n",
      "\n",
      "We can take the derivitive, set it to zero (to find the maximum), and then find the expected parameters.\n",
      "\n",
      "$$ l() = \\sum_{i=1}^m log (P(x \\mid y)) p(y)$$\n",
      "\n",
      "This results in very intuitive estimates for the model parameters:\n",
      "\n",
      "For example $P(j \\mid y=0)$ is simply the ocourance of the given word divided by the total number of e-mails in the class $y=0$."
     ]
    },
    {
     "cell_type": "heading",
     "level": 4,
     "metadata": {},
     "source": [
      "Limitations with Naive Bayes and Laplace smoothing - "
     ]
    },
    {
     "cell_type": "markdown",
     "metadata": {},
     "source": [
      "For events that we have not yet seen, $P(X=j \\mid y)=0$ based upon our expected value formula for $P(j \\mid y)$.\n",
      "\n",
      "Thus, $P(X \\mid y) = \\prod\\limits_{i=1}^{m} p(x_i \\mid y) = 0$ and the classifier crashes.\n",
      "\n",
      "Laplace smoothing, initially used to compute the likelihood of the sun rising, simply adds one to address the zero problem."
     ]
    },
    {
     "cell_type": "heading",
     "level": 3,
     "metadata": {},
     "source": [
      "Non-linear decision bounaries "
     ]
    },
    {
     "cell_type": "markdown",
     "metadata": {},
     "source": [
      "In some cases, a linear decision boundary will not work."
     ]
    },
    {
     "cell_type": "heading",
     "level": 4,
     "metadata": {},
     "source": [
      "Neural networks"
     ]
    },
    {
     "cell_type": "markdown",
     "metadata": {},
     "source": [
      "A neural network is a set of computational (e.g., logistic regression) units strung together."
     ]
    },
    {
     "cell_type": "heading",
     "level": 4,
     "metadata": {},
     "source": [
      "Funtional and geometric margin"
     ]
    },
    {
     "cell_type": "markdown",
     "metadata": {},
     "source": [
      "First, assume our training set is linearly seperable.\n",
      "\n",
      "$g(z)$ is the logistic funtion where $z=\\theta^T x$:\n",
      "    \n",
      "* If $y^i=1$, we train to generate $\\theta^T x >> 0$ and our classifier picks 1.\n",
      "* If $y^i=0$, we train to generate $\\theta^T x << 0$ and our classifier picks 0.\n",
      "\n",
      "The concept of $\\textbf{funtional margin}$ simply tells us whether a given training example is properly classified.\n",
      "\n",
      "Given a training dataset that is linealy seperable, some bounaries come closer to training examples (less favorable) than others.\n",
      "\n",
      "Moreover, we might choose the decision bounary that stays far away from our training examples.\n",
      "\n",
      "The concept of $\\textbf{geometric margin}$ tells us how close the decision boundary is to each training example.\n",
      "\n",
      "http://stackoverflow.com/questions/20058036/svm-what-is-a-functional-margin"
     ]
    },
    {
     "cell_type": "heading",
     "level": 4,
     "metadata": {},
     "source": [
      "Functional margin for a new classifier, which sets the stage for SVMs"
     ]
    },
    {
     "cell_type": "markdown",
     "metadata": {},
     "source": [
      "In order to formalize these ideas, we can use a new notation to derive SVMs:\n",
      "\n",
      "We will build a binary classifier with two classes, $y \\in \\{-1,1\\}$\n",
      "\n",
      "Our hypothesis outputs values $-1$ and $1$.\n",
      "\n",
      "Now, let's change g(z) so that it will output a step-funtion rather than a sigmoid function.\n",
      "\n",
      "* Output is -1 if z $\\leq$ 0. \n",
      "* Output is 1 if z > 0.\n",
      "\n",
      "Also, our hypothesis funtion is now:\n",
      "\n",
      "$ h_{w,b} = g(w^Tx + b) $\n",
      "\n",
      "Our challenge is to find an algorithmn to find $w,b$.\n",
      "\n",
      "The funtional margin with respect to a single training example:\n",
      "\n",
      "$\\hat{\\gamma} = y^i (w^T x^i + b)$\n",
      "\n",
      "Now, the funtional margine will be large $y^i (w^T x^i + b) > 0$ when we correctly classify the training example.\n",
      "\n",
      "Since we always want $\\hat{\\gamma}$ to be large:\n",
      "\n",
      "* If $y^i=1$, we train to generate $w^T x^i + b >> 0$ and our classifier picks 1.\n",
      "* If $y^i=-1$, we train to generate $w^T x^i + b << 0$ and our classifier picks 0.\n",
      "\n",
      "The funtional margin with respect to a full training set is defined as the worst-case functonal margin:\n",
      "\n",
      "$\\hat{\\gamma} = min (\\hat{\\gamma}^i)$\n",
      "\n",
      "Moreover, we can scale funtion margin without affecting the the decision boundary is $w^T x^i + b=0$."
     ]
    },
    {
     "cell_type": "heading",
     "level": 4,
     "metadata": {},
     "source": [
      "The geometric margin for this classifier"
     ]
    },
    {
     "cell_type": "markdown",
     "metadata": {},
     "source": [
      "The other candidate for optimization is the geometric margin, which is the Euclidian distance between the boundary and the training example.\n",
      "\n",
      "In the notes, this is derived below and simply means that the funtional margin is scaled by the distance between the point and the decision boundary:\n",
      "\n",
      "$\\gamma = \\frac{\\hat{\\gamma}}{\\|w\\|}$\n",
      "\n",
      "The geometric margin with respect to a full training set is defined as the worst-case geometric margin:\n",
      "\n",
      "$\\gamma = min (\\gamma)$\n",
      "\n",
      "We want to find $w$ and $b$ such that the geometric margin is maximized:\n",
      "\n",
      "$max (\\frac{\\hat{\\gamma}}{\\|w\\|})$\n",
      "\n",
      "The challenge is that this is not a convex problem!"
     ]
    },
    {
     "cell_type": "heading",
     "level": 4,
     "metadata": {},
     "source": [
      "Re-cast this as a convex optimization problem and find $w,b$  that are the optimal margin classifier"
     ]
    },
    {
     "cell_type": "markdown",
     "metadata": {},
     "source": [
      "We can enforce that the funtional margin, $\\hat{\\gamma} = y^i (w^T x^i + b)$, is equal to 1.\n",
      "\n",
      "Thus, the geometric margin is $\\frac{1}{\\|w\\|}$.\n",
      "\n",
      "We now want to find $w$ and $b$ such that:\n",
      "\n",
      "$max (\\frac{1}{\\|w\\|})$\n",
      "\n",
      "Or:\n",
      "\n",
      "$min (\\|w\\|^{2})$, which is a quadratic constraint ($w^Tw$).\n",
      "\n",
      "If we plot values of w, they appear as concentric circles around the origin.\n",
      "\n",
      "Enforcing the constraint that each training example: \n",
      "\n",
      "$y^i (w^T x^i + b) \\geq 1$\n",
      "\n",
      "Means that regions in w are excluded.\n",
      "\n",
      "That is, each training example imposes a linear constraint on the values of $w$ and $b$.\n",
      "\n",
      "To solve for the values of $w$ in the optimal margin classifier, pick values of $w$ that are closest to the origin.\n",
      "\n",
      "We can use quadratic programming packages to do this, which will output values of $w$ and $b$ that are the optimal margin classifier. "
     ]
    },
    {
     "cell_type": "heading",
     "level": 4,
     "metadata": {},
     "source": [
      "We re-cast the optimal margin classifier into Lagrandue duality to derive the SVM"
     ]
    },
    {
     "cell_type": "code",
     "collapsed": false,
     "input": [],
     "language": "python",
     "metadata": {},
     "outputs": []
    },
    {
     "cell_type": "heading",
     "level": 4,
     "metadata": {},
     "source": [
      "Kernels"
     ]
    },
    {
     "cell_type": "heading",
     "level": 4,
     "metadata": {},
     "source": [
      "VC Dimention"
     ]
    },
    {
     "cell_type": "heading",
     "level": 3,
     "metadata": {},
     "source": [
      "PCA"
     ]
    },
    {
     "cell_type": "markdown",
     "metadata": {},
     "source": [
      "Notes: http://sebastianraschka.com/Articles/2014_python_lda.html"
     ]
    },
    {
     "cell_type": "heading",
     "level": 3,
     "metadata": {},
     "source": [
      "Useful math"
     ]
    },
    {
     "cell_type": "markdown",
     "metadata": {},
     "source": [
      "$$ log(xyz) = logx + logy + logz $$\n",
      "\n",
      "$$ log(\\phi^y)=y log(\\phi) $$\n",
      "\n",
      "$$ \\frac{d}{dx} log(f(x)) = \\frac{f'(x)}{f(x)} $$\n",
      "\n"
     ]
    },
    {
     "cell_type": "code",
     "collapsed": false,
     "input": [],
     "language": "python",
     "metadata": {},
     "outputs": []
    }
   ],
   "metadata": {}
  }
 ]
}